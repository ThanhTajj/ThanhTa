{
 "cells": [
  {
   "cell_type": "markdown",
   "id": "fcf7f604",
   "metadata": {
    "deletable": false,
    "editable": false,
    "nbgrader": {
     "cell_type": "markdown",
     "checksum": "9e60b0bf95a1cbbe63e7b402f820f443",
     "grade": false,
     "grade_id": "cell-486ae3c2151bbe5a",
     "locked": true,
     "schema_version": 3,
     "solution": false,
     "task": false
    }
   },
   "source": [
    "# Bài tập về nhà số 1\n",
    "\n",
    "Bài tập này giúp bạn làm quen với cách làm bài tập và nộp bài trên hệ thống Jupyterhub."
   ]
  },
  {
   "cell_type": "markdown",
   "id": "997fee78",
   "metadata": {
    "deletable": false,
    "editable": false,
    "nbgrader": {
     "cell_type": "markdown",
     "checksum": "c79be59845950bbc3c4f9b05002511a7",
     "grade": false,
     "grade_id": "cell-ec20b37e3f2a55e4",
     "locked": true,
     "schema_version": 3,
     "solution": false,
     "task": false
    }
   },
   "source": [
    "## Thông tin sinh viên: Nhập tên và MSSV\n",
    "\n",
    "Nhập tên và mssv vào hai biến \"name\" và \"student_id\"\n",
    "\n",
    "Chú ý: xoá dòng \"raise NotImplementedError()\" và nhập code của bạn vào, ví dụ:\n",
    "\n",
    "  `name = 'Mai Xuan Trang'`\n",
    "  \n",
    "  `student_id = 19001900`"
   ]
  },
  {
   "cell_type": "code",
   "execution_count": null,
   "id": "ade96780",
   "metadata": {
    "deletable": false,
    "nbgrader": {
     "cell_type": "code",
     "checksum": "3d8f7ae78be94cf38af30c10606743df",
     "grade": false,
     "grade_id": "cell-027d32af8d0c640f",
     "locked": false,
     "schema_version": 3,
     "solution": true,
     "task": false
    }
   },
   "outputs": [],
   "source": [
    "# Nhập tên và mssv vào hai biến \"name\" và \"student_id\"\n",
    "\n",
    "# YOUR CODE HERE\n",
    "name = 'Ta Van Thanh'\n",
    "student_id = 22010161"
   ]
  },
  {
   "cell_type": "code",
   "execution_count": null,
   "id": "2634eec7",
   "metadata": {
    "deletable": false,
    "editable": false,
    "nbgrader": {
     "cell_type": "code",
     "checksum": "900eba6eb1803c8b7e85c78c72553f2e",
     "grade": true,
     "grade_id": "cell-102887e7c1ff3464",
     "locked": true,
     "points": 1,
     "schema_version": 3,
     "solution": false,
     "task": false
    }
   },
   "outputs": [],
   "source": []
  },
  {
   "cell_type": "markdown",
   "id": "627c7879",
   "metadata": {},
   "source": [
    "## Bài 1: Câu hỏi trắc nghiệm\n",
    "\n",
    "Làm thế nào để chạy một cell trên Jupyter Notebook dùng bàn phím? Lựa chọn câu trả lời đúng?\n",
    "\n",
    "1. shift + option\n",
    "2. command + enter\n",
    "3. shift + enter\n",
    "4. enter\n",
    "\n",
    "Chú ý Gan bien `answer` la câu trả lời của bạn."
   ]
  },
  {
   "cell_type": "code",
   "execution_count": null,
   "id": "da9bdee2",
   "metadata": {
    "deletable": false,
    "nbgrader": {
     "cell_type": "code",
     "checksum": "0445c0b434663891979d20f63081d349",
     "grade": false,
     "grade_id": "cell-8f59bed7563b700c",
     "locked": false,
     "schema_version": 3,
     "solution": true,
     "task": false
    }
   },
   "outputs": [],
   "source": [
    "# Gan bien \"answer\" la cau tra loi cua ban\n",
    "# Xoá dòng \"raise NotImplementedError()\" và nhập code của bạn vào\n",
    "\n",
    "# YOUR CODE HERE\n",
    "answer = 3.shift + enter"
   ]
  },
  {
   "cell_type": "code",
   "execution_count": null,
   "id": "15248f9b",
   "metadata": {
    "deletable": false,
    "editable": false,
    "nbgrader": {
     "cell_type": "code",
     "checksum": "ddd470bf8b86601e212970fc2a1f3365",
     "grade": true,
     "grade_id": "cell-65f92074979b63de",
     "locked": true,
     "points": 3,
     "schema_version": 3,
     "solution": false,
     "task": false
    }
   },
   "outputs": [],
   "source": []
  },
  {
   "cell_type": "markdown",
   "id": "321c5e1a",
   "metadata": {},
   "source": [
    "## Bài 2: Phần viết code\n",
    "\n",
    "Viết hàm `check_fizzbuzz` để kiểm tra một số là với các điều kiện như sau:\n",
    "\n",
    "- Trả về \"fizz\" nếu số đó chia hết cho 3\n",
    "- Trả về \"buzz\" nếu số đó chia hết cho 5\n",
    "- Trả về \"fizzbuzz\" nếu số đó vừa chia hết cho 3, vừa chia hết cho 5.\n",
    "- Trả về số đó nếu không rời vào các trường hợp trên"
   ]
  },
  {
   "cell_type": "code",
   "execution_count": 48,
   "id": "84f6eeb6",
   "metadata": {
    "deletable": false,
    "nbgrader": {
     "cell_type": "code",
     "checksum": "f9d7ff6c6faa79a6c7784a7ba071e253",
     "grade": false,
     "grade_id": "cell-9d2b47ca2bda9df7",
     "locked": false,
     "schema_version": 3,
     "solution": true,
     "task": false
    }
   },
   "outputs": [
    {
     "ename": "TypeError",
     "evalue": "unsupported operand type(s) for %: 'function' and 'int'",
     "output_type": "error",
     "traceback": [
      "\u001b[0;31m---------------------------------------------------------------------------\u001b[0m",
      "\u001b[0;31mTypeError\u001b[0m                                 Traceback (most recent call last)",
      "Cell \u001b[0;32mIn [48], line 5\u001b[0m\n\u001b[1;32m      1\u001b[0m \u001b[38;5;28;01mdef\u001b[39;00m \u001b[38;5;21mfizzbuzz\u001b[39m(x):\n\u001b[1;32m      2\u001b[0m     \u001b[38;5;66;03m# Xoá dòng \"raise NotImplementedError()\" và nhập code của bạn vào\u001b[39;00m\n\u001b[1;32m      3\u001b[0m     \u001b[38;5;66;03m# YOUR CODE HERE\u001b[39;00m\n\u001b[1;32m      4\u001b[0m     fizzbuzz \u001b[38;5;241m==\u001b[39m \u001b[38;5;241m5\u001b[39m\n\u001b[0;32m----> 5\u001b[0m \u001b[38;5;28;01mif\u001b[39;00m \u001b[43mfizzbuzz\u001b[49m\u001b[43m \u001b[49m\u001b[38;5;241;43m%\u001b[39;49m\u001b[43m \u001b[49m\u001b[38;5;241;43m3\u001b[39;49m \u001b[38;5;241m==\u001b[39m \u001b[38;5;241m0\u001b[39m:\n\u001b[1;32m      6\u001b[0m     \u001b[38;5;28mprint\u001b[39m(\u001b[38;5;124m\"\u001b[39m\u001b[38;5;124mfizz\u001b[39m\u001b[38;5;124m\"\u001b[39m)\n\u001b[1;32m      7\u001b[0m \u001b[38;5;28;01melif\u001b[39;00m fizzbuzz \u001b[38;5;241m%\u001b[39m \u001b[38;5;241m5\u001b[39m \u001b[38;5;241m==\u001b[39m \u001b[38;5;241m0\u001b[39m:\n",
      "\u001b[0;31mTypeError\u001b[0m: unsupported operand type(s) for %: 'function' and 'int'"
     ]
    }
   ],
   "source": [
    "def check_fizzbuzz(x):\n",
    "    # Xoá dòng \"raise NotImplementedError()\" và nhập code của bạn vào\n",
    "    # YOUR CODE HERE\n",
    "    fizzbuzz == 5\n",
    "if fizzbuzz % 3 == 0:\n",
    "    print(\"fizz\")\n",
    "elif fizzbuzz % 5 == 0:\n",
    "    print(\"buzz\")\n",
    "elif fizzbuzz % 3 == 0 and fizzbuzz % 5 == 0:\n",
    "    print(\"fizzbuzz\")\n",
    "else:\n",
    "    print(fizzbuzz)"
   ]
  },
  {
   "cell_type": "markdown",
   "id": "7fd5ccc1",
   "metadata": {
    "deletable": false,
    "editable": false,
    "nbgrader": {
     "cell_type": "markdown",
     "checksum": "80813d6a69c6742cf6cc4538d36efc1e",
     "grade": false,
     "grade_id": "cell-6461ad9bb7d637df",
     "locked": true,
     "schema_version": 3,
     "solution": false,
     "task": false
    }
   },
   "source": [
    "Ví dụ: khi chạy hàm hàm check_fizzbuzz(10) chương trình nên trả về buzz:"
   ]
  },
  {
   "cell_type": "code",
   "execution_count": 51,
   "id": "4e9567db",
   "metadata": {},
   "outputs": [
    {
     "ename": "TypeError",
     "evalue": "unsupported operand type(s) for %: 'function' and 'int'",
     "output_type": "error",
     "traceback": [
      "\u001b[0;31m---------------------------------------------------------------------------\u001b[0m",
      "\u001b[0;31mTypeError\u001b[0m                                 Traceback (most recent call last)",
      "Cell \u001b[0;32mIn [51], line 2\u001b[0m\n\u001b[1;32m      1\u001b[0m fizzbuzz \u001b[38;5;241m==\u001b[39m \u001b[38;5;241m10\u001b[39m\n\u001b[0;32m----> 2\u001b[0m \u001b[38;5;28;01mif\u001b[39;00m \u001b[43mfizzbuzz\u001b[49m\u001b[43m \u001b[49m\u001b[38;5;241;43m%\u001b[39;49m\u001b[43m \u001b[49m\u001b[38;5;241;43m3\u001b[39;49m \u001b[38;5;241m==\u001b[39m \u001b[38;5;241m0\u001b[39m:\n\u001b[1;32m      3\u001b[0m  \u001b[38;5;28mprint\u001b[39m(\u001b[38;5;124m\"\u001b[39m\u001b[38;5;124mfizz\u001b[39m\u001b[38;5;124m\"\u001b[39m)\n\u001b[1;32m      4\u001b[0m \u001b[38;5;28;01melif\u001b[39;00m fizzbuzz \u001b[38;5;241m%\u001b[39m \u001b[38;5;241m5\u001b[39m \u001b[38;5;241m==\u001b[39m \u001b[38;5;241m0\u001b[39m:\n",
      "\u001b[0;31mTypeError\u001b[0m: unsupported operand type(s) for %: 'function' and 'int'"
     ]
    }
   ],
   "source": [
    "   fizzbuzz == 10\n",
    "if fizzbuzz % 3 == 0:\n",
    "    print(\"fizz\")\n",
    "elif fizzbuzz % 5 == 0:\n",
    "    print(\"buzz\")\n",
    "elif fizzbuzz % 3 == 0 and fizzbuzz % 5 == 0:\n",
    "    print(\"fizzbuzz\")\n",
    "else:\n",
    "    print(fizzbuzz)"
   ]
  },
  {
   "cell_type": "code",
   "execution_count": null,
   "id": "56f0f2c5",
   "metadata": {
    "deletable": false,
    "editable": false,
    "nbgrader": {
     "cell_type": "code",
     "checksum": "5a7c80944bf7ce9d3756601bd2fcb282",
     "grade": true,
     "grade_id": "cell-2839174854a754eb",
     "locked": true,
     "points": 6,
     "schema_version": 3,
     "solution": false,
     "task": false
    }
   },
   "outputs": [],
   "source": []
  },
  {
   "cell_type": "markdown",
   "id": "f706e1b1",
   "metadata": {
    "deletable": false,
    "editable": false,
    "nbgrader": {
     "cell_type": "markdown",
     "checksum": "b0bacd2d2fb723b87a7a91678b5ea742",
     "grade": false,
     "grade_id": "cell-ce09c74a41f99fe1",
     "locked": true,
     "schema_version": 3,
     "solution": false,
     "task": false
    }
   },
   "source": [
    "## Nộp bài\n",
    "\n",
    "Làm theo hướng dẫn của giảng viên để nộp bài."
   ]
  }
 ],
 "metadata": {
  "kernelspec": {
   "display_name": "Python 3 (ipykernel)",
   "language": "python",
   "name": "python3"
  },
  "language_info": {
   "codemirror_mode": {
    "name": "ipython",
    "version": 3
   },
   "file_extension": ".py",
   "mimetype": "text/x-python",
   "name": "python",
   "nbconvert_exporter": "python",
   "pygments_lexer": "ipython3",
   "version": "3.9.7"
  }
 },
 "nbformat": 4,
 "nbformat_minor": 5
}
