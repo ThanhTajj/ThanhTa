{
 "cells": [
  {
   "cell_type": "code",
   "execution_count": 4,
   "id": "adcb1ff0",
   "metadata": {},
   "outputs": [],
   "source": [
    "def nhapdulieu():\n",
    "    lst = []\n",
    "    print(\"Nhap vao so nguyen duong n:\")\n",
    "    n=int(input())\n",
    "    while n < 0:\n",
    "        print(\"Nhap lai n:\")\n",
    "        n = int(input())\n",
    "    for i in range(0,n):\n",
    "        print(\"Nhap vao phan tu thu\", i+1)\n",
    "        tap = int(input())\n",
    "        while tap < 0:\n",
    "            print(\"gia tri nhap vao khong hop le, nhap lai:\")\n",
    "            tap = int(input())\n",
    "        lst.append(tap)\n",
    "    return lst"
   ]
  },
  {
   "cell_type": "code",
   "execution_count": 7,
   "id": "7fd2d57c",
   "metadata": {},
   "outputs": [
    {
     "name": "stdout",
     "output_type": "stream",
     "text": [
      "Nhap vao so nguyen duong n:\n",
      "-3\n",
      "Nhap lai n:\n",
      "-6\n",
      "Nhap lai n:\n",
      "2\n",
      "Nhap vao phan tu thu 1\n",
      "5\n",
      "Nhap vao phan tu thu 2\n",
      "3\n"
     ]
    },
    {
     "data": {
      "text/plain": [
       "[5, 3]"
      ]
     },
     "execution_count": 7,
     "metadata": {},
     "output_type": "execute_result"
    }
   ],
   "source": [
    "nhapdulieu()"
   ]
  },
  {
   "cell_type": "code",
   "execution_count": null,
   "id": "d103ba6e",
   "metadata": {},
   "outputs": [],
   "source": []
  }
 ],
 "metadata": {
  "kernelspec": {
   "display_name": "Python 3 (ipykernel)",
   "language": "python",
   "name": "python3"
  },
  "language_info": {
   "codemirror_mode": {
    "name": "ipython",
    "version": 3
   },
   "file_extension": ".py",
   "mimetype": "text/x-python",
   "name": "python",
   "nbconvert_exporter": "python",
   "pygments_lexer": "ipython3",
   "version": "3.9.7"
  }
 },
 "nbformat": 4,
 "nbformat_minor": 5
}
